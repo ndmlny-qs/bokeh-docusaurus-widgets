{
 "cells": [
  {
   "cell_type": "code",
   "execution_count": null,
   "id": "8f41ac86-1231-4d55-8940-5e9ddd83e661",
   "metadata": {},
   "outputs": [],
   "source": [
    "from bokeh.io.output import output_notebook\n",
    "from bokeh.io.showing import show\n",
    "from bokeh.layouts import column\n",
    "from bokeh.models.sources import ColumnDataSource\n",
    "from bokeh.models.widgets.inputs import Select\n",
    "from bokeh.plotting.figure import figure\n",
    "\n",
    "\n",
    "output_notebook()"
   ]
  },
  {
   "cell_type": "code",
   "execution_count": null,
   "id": "92e7234a-4071-4b32-95c6-d250e86c780a",
   "metadata": {},
   "outputs": [],
   "source": [
    "class BKApp:\n",
    "    def modify_doc(self, doc):\n",
    "        # Initialize the widget value.\n",
    "        init_value = 1\n",
    "\n",
    "        # Compute data using the initial widget value, and create a Bokeh source.\n",
    "        x = range(10)\n",
    "        y = [init_value * pt for pt in x]\n",
    "        source = ColumnDataSource({\"x\": x, \"y\": y})\n",
    "\n",
    "        # Create the figure, and attach the data to it.\n",
    "        fig = figure()\n",
    "        fig.line(x=\"x\", y=\"y\", source=source)\n",
    "\n",
    "        # Create the widget.\n",
    "        select = Select(\n",
    "            value=str(init_value), options=list(map(str, range(3))), title=\"slope\"\n",
    "        )\n",
    "\n",
    "        # Callback for the widget.\n",
    "        def update(attr, old, new):\n",
    "            # Calculate new data.\n",
    "            new_y = [int(new) * pt for pt in x]\n",
    "            # Update the source with the new data.\n",
    "            source.data = {\"x\": x, \"y\": new_y}\n",
    "\n",
    "        # Listen for changes from the widget.\n",
    "        select.on_change(\"value\", update)\n",
    "\n",
    "        # Add the widget and plot to the doc.\n",
    "        layout = column([select, fig])\n",
    "        doc.add_root(layout)\n",
    "\n",
    "    def show(self):\n",
    "        # Visualize the widget in Jupyter.\n",
    "        show(self.modify_doc)"
   ]
  },
  {
   "cell_type": "code",
   "execution_count": null,
   "id": "75bfc792-9b44-4da6-b91b-f6051e2d9c23",
   "metadata": {},
   "outputs": [],
   "source": [
    "BKApp().show()"
   ]
  }
 ],
 "metadata": {
  "kernelspec": {
   "display_name": "Python 3 (ipykernel)",
   "language": "python",
   "name": "python3"
  },
  "language_info": {
   "codemirror_mode": {
    "name": "ipython",
    "version": 3
   },
   "file_extension": ".py",
   "mimetype": "text/x-python",
   "name": "python",
   "nbconvert_exporter": "python",
   "pygments_lexer": "ipython3",
   "version": "3.10.4"
  }
 },
 "nbformat": 4,
 "nbformat_minor": 5
}
